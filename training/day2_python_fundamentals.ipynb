{
  "nbformat": 4,
  "nbformat_minor": 0,
  "metadata": {
    "colab": {
      "provenance": []
    },
    "kernelspec": {
      "name": "python3",
      "display_name": "Python 3"
    },
    "language_info": {
      "name": "python"
    }
  },
  "cells": [
    {
      "cell_type": "markdown",
      "source": [
        "# **Day 2 — Python Fundamentals**\n",
        "---\n",
        "\n"
      ],
      "metadata": {
        "id": "3fbDmzL_579f"
      }
    },
    {
      "cell_type": "markdown",
      "source": [
        "## Task 1: Data Structures Deep Dive"
      ],
      "metadata": {
        "id": "2HoWU2_e4Zp_"
      }
    },
    {
      "cell_type": "code",
      "source": [
        "#Basic Data Structures\n",
        "\n",
        "# List\n",
        "fruits = [\"apple\", \"banana\", \"cherry\", \"apple\"]\n",
        "print(\"List:\", fruits)"
      ],
      "metadata": {
        "colab": {
          "base_uri": "https://localhost:8080/"
        },
        "id": "mezcr1e86Nq5",
        "outputId": "83ebfb21-de4c-4d41-a35d-8318db6b9f52"
      },
      "execution_count": 1,
      "outputs": [
        {
          "output_type": "stream",
          "name": "stdout",
          "text": [
            "List: ['apple', 'banana', 'cherry', 'apple']\n"
          ]
        }
      ]
    },
    {
      "cell_type": "code",
      "source": [
        "# Tuple\n",
        "dimensions = (10, 20, 30)\n",
        "print(\"Tuple:\", dimensions)"
      ],
      "metadata": {
        "colab": {
          "base_uri": "https://localhost:8080/"
        },
        "id": "Eh8k_DAv62zp",
        "outputId": "21677f35-e593-4db9-927c-a6f878490c1a"
      },
      "execution_count": 2,
      "outputs": [
        {
          "output_type": "stream",
          "name": "stdout",
          "text": [
            "Tuple: (10, 20, 30)\n"
          ]
        }
      ]
    },
    {
      "cell_type": "code",
      "source": [
        "# Set\n",
        "unique_fruits = set(fruits)\n",
        "print(\"Set (removes duplicates):\", unique_fruits)"
      ],
      "metadata": {
        "colab": {
          "base_uri": "https://localhost:8080/"
        },
        "id": "tvKew9Xa65Lg",
        "outputId": "89bb1a05-707b-4da4-8a46-d05d02cba773"
      },
      "execution_count": 6,
      "outputs": [
        {
          "output_type": "stream",
          "name": "stdout",
          "text": [
            "Set (removes duplicates): {'cherry', 'banana', 'apple'}\n"
          ]
        }
      ]
    },
    {
      "cell_type": "code",
      "source": [
        "# Dictionary\n",
        "student = {\"name\": \"Hari\", \"age\": 18, \"skills\": [\"Python\", \"SQL\"]}\n",
        "print(\"Dictionary:\", student)"
      ],
      "metadata": {
        "colab": {
          "base_uri": "https://localhost:8080/"
        },
        "id": "qYEAqJ-n662Y",
        "outputId": "5eb1dd48-4e0f-44ba-eddb-dd3750c8ee17"
      },
      "execution_count": 7,
      "outputs": [
        {
          "output_type": "stream",
          "name": "stdout",
          "text": [
            "Dictionary: {'name': 'Hari', 'age': 18, 'skills': ['Python', 'SQL']}\n"
          ]
        }
      ]
    },
    {
      "cell_type": "code",
      "source": [
        "# List Comprehensions without condition\n",
        "fruits = [\"apple\", \"banana\", \"cherry\", \"apple\"]\n",
        "new=[]\n",
        "\n",
        "for x in fruits:\n",
        "  new.append(x)\n",
        "print(new)\n"
      ],
      "metadata": {
        "colab": {
          "base_uri": "https://localhost:8080/"
        },
        "id": "6D6WLdm07UiA",
        "outputId": "92572492-0596-42e1-a2fd-95ccb9a1036f"
      },
      "execution_count": 8,
      "outputs": [
        {
          "output_type": "stream",
          "name": "stdout",
          "text": [
            "['apple', 'banana', 'cherry', 'apple']\n"
          ]
        }
      ]
    },
    {
      "cell_type": "code",
      "source": [
        "# List Comprehensions with condition\n",
        "fruits = [\"apple\", \"banana\", \"cherry\", \"apple\"]\n",
        "new=[]\n",
        "\n",
        "for x in fruits:\n",
        "  if \"a\" in x:\n",
        "    new.append(x)\n",
        "print(new)"
      ],
      "metadata": {
        "colab": {
          "base_uri": "https://localhost:8080/"
        },
        "id": "TxoKxa4l8XMr",
        "outputId": "188e889e-dd1a-4a82-ab76-75e6c06b63cb"
      },
      "execution_count": 5,
      "outputs": [
        {
          "output_type": "stream",
          "name": "stdout",
          "text": [
            "['apple', 'banana', 'apple']\n"
          ]
        }
      ]
    },
    {
      "cell_type": "code",
      "source": [
        "#Basic Nested Dictionary\n",
        "\n",
        "student = {\n",
        "    \"name\": \"Hari\",\n",
        "    \"marks\": {\n",
        "        \"math\": 90,\n",
        "        \"science\": 85,\n",
        "        \"english\": 88\n",
        "    }\n",
        "}\n",
        "#Access the value of math:\n",
        "print(student[\"marks\"][\"math\"])\n"
      ],
      "metadata": {
        "colab": {
          "base_uri": "https://localhost:8080/"
        },
        "id": "A9PD3kpCl_27",
        "outputId": "34bd4052-37a4-47a8-f064-689981b2f8ef"
      },
      "execution_count": 12,
      "outputs": [
        {
          "output_type": "stream",
          "name": "stdout",
          "text": [
            "90\n"
          ]
        }
      ]
    },
    {
      "cell_type": "code",
      "source": [
        "# Another Example for Nested:\n",
        "school = {\n",
        "    \"class10\": {\"sectionA\": {\"students\": {\"hari\": {\"roll_no\": 12,\"grades\": {\"math\": 95,\"science\": 88}},\n",
        "                \"ravi\": {\"roll_no\": 13,\"grades\": {\"math\": 78,\"science\": 90}}}}}}\n",
        "\n",
        "#Access Hari's science grade:\n",
        "print(school[\"class10\"][\"sectionA\"][\"students\"][\"hari\"][\"grades\"][\"science\"])\n",
        "\n"
      ],
      "metadata": {
        "colab": {
          "base_uri": "https://localhost:8080/"
        },
        "id": "0QKTBkCZsHMt",
        "outputId": "3af48c51-a73f-42b1-b4a0-8a6e493d6cf1"
      },
      "execution_count": 14,
      "outputs": [
        {
          "output_type": "stream",
          "name": "stdout",
          "text": [
            "88\n"
          ]
        }
      ]
    },
    {
      "cell_type": "code",
      "source": [
        "#Sorting List & Removing Duplicates\n",
        "\n",
        "numbers = [5, 2, 3, 5, 1, 2, 4]\n",
        "unique_sorted = sorted(set(numbers))\n",
        "print(\"Sorted list without duplicates:\", unique_sorted)"
      ],
      "metadata": {
        "colab": {
          "base_uri": "https://localhost:8080/"
        },
        "id": "xje9o0gUtPKN",
        "outputId": "6427ba3b-8977-4ebf-c072-48659b67e2bd"
      },
      "execution_count": 17,
      "outputs": [
        {
          "output_type": "stream",
          "name": "stdout",
          "text": [
            "Sorted list without duplicates: [1, 2, 3, 4, 5]\n"
          ]
        }
      ]
    },
    {
      "cell_type": "markdown",
      "source": [
        "## Task 2: Functions & Modules"
      ],
      "metadata": {
        "id": "YR_Nuo9Pusg1"
      }
    },
    {
      "cell_type": "code",
      "source": [
        "# Factorial Calculator\n",
        "\n",
        "def factorial(n):\n",
        "    if n < 0:\n",
        "        return \"Factorial is not defined for negative numbers.\"\n",
        "    result = 1\n",
        "    for i in range(1, n + 1):\n",
        "        result *= i\n",
        "    return result\n",
        "\n",
        "print(\"Factorial of 5:\", factorial(5))\n"
      ],
      "metadata": {
        "colab": {
          "base_uri": "https://localhost:8080/"
        },
        "id": "LwaE3x2Hutrc",
        "outputId": "50d52d1e-c781-45c8-fe4c-fdafaa39f9ba"
      },
      "execution_count": 21,
      "outputs": [
        {
          "output_type": "stream",
          "name": "stdout",
          "text": [
            "Factorial of 5: 120\n"
          ]
        }
      ]
    },
    {
      "cell_type": "code",
      "source": [
        "#Prime Number Checker\n",
        "\n",
        "def prime(num):\n",
        "    if num <= 1:\n",
        "        return False\n",
        "    for i in range(2, int(num ** 0.5) + 1):\n",
        "        if num % i == 0:\n",
        "            return False\n",
        "    return True\n",
        "\n",
        "print(\"Is 5 prime?\", prime(5))\n",
        "print(\"Is 7 prime?\", prime(7))\n",
        "print(\"Is 10 prime?\", prime(10))\n",
        "\n"
      ],
      "metadata": {
        "colab": {
          "base_uri": "https://localhost:8080/"
        },
        "id": "-wvnQEK87gMI",
        "outputId": "892a4764-5de3-4dfe-a429-1b5abfe98adb"
      },
      "execution_count": 24,
      "outputs": [
        {
          "output_type": "stream",
          "name": "stdout",
          "text": [
            "Is 5 prime? True\n",
            "Is 7 prime? True\n",
            "Is 10 prime? False\n"
          ]
        }
      ]
    },
    {
      "cell_type": "code",
      "source": [
        "#Built-in Modules\n",
        "\n",
        "#math Module\n",
        "import math\n",
        "\n",
        "# Using math module to get square root and pi value\n",
        "num = 16\n",
        "print(\"Square root of\", num, \"is\", math.sqrt(num))\n",
        "print(\"Value of pi:\", math.pi)\n",
        "\n",
        "\n",
        "\n",
        "#random Module\n",
        "import random\n",
        "\n",
        "# Generate a random number between 1 and 10\n",
        "random_number = random.randint(1, 10)\n",
        "print(\"\\nRandom number:\", random_number)\n",
        "\n",
        "#datetime Module\n",
        "import datetime\n",
        "\n",
        "# Get the current date and time\n",
        "current_datetime = datetime.datetime.now()\n",
        "print(\"\\nCurrent date and time:\", current_datetime)\n"
      ],
      "metadata": {
        "colab": {
          "base_uri": "https://localhost:8080/"
        },
        "id": "xDRSXjBX8wcQ",
        "outputId": "431baf3b-bd08-450d-ed43-a14ac9ba1ad3"
      },
      "execution_count": 30,
      "outputs": [
        {
          "output_type": "stream",
          "name": "stdout",
          "text": [
            "Square root of 16 is 4.0\n",
            "Value of pi: 3.141592653589793\n",
            "\n",
            "Random number: 1\n",
            "\n",
            "Current date and time: 2025-06-19 11:29:28.209774\n"
          ]
        }
      ]
    },
    {
      "cell_type": "markdown",
      "source": [
        "## Task 3: Exception Handling\n",
        "### The concept which i learn from this:\n",
        "\n",
        "\n",
        "*   try: Block of code to test for errors.\n",
        "*   except: Block of code that handles the error.\n",
        "*   finally: Block of code that will execute no matter what, even if an error occurs.\n",
        "\n",
        "\n",
        "\n"
      ],
      "metadata": {
        "id": "aa6O8Q0w-F2Y"
      }
    },
    {
      "cell_type": "code",
      "source": [
        "try:\n",
        "    num = 10\n",
        "    result = num / 0  # This will raise a ZeroDivisionError\n",
        "except ZeroDivisionError:\n",
        "    print(\"Error: You tried to divide by zero!\")\n",
        "finally:\n",
        "    print(\"This will always execute, error or not.\")\n"
      ],
      "metadata": {
        "colab": {
          "base_uri": "https://localhost:8080/"
        },
        "id": "3lie8iG9_pOh",
        "outputId": "bc19dacf-8c3c-4385-e231-4779368094b5"
      },
      "execution_count": 31,
      "outputs": [
        {
          "output_type": "stream",
          "name": "stdout",
          "text": [
            "Error: You tried to divide by zero!\n",
            "This will always execute, error or not.\n"
          ]
        }
      ]
    },
    {
      "cell_type": "code",
      "source": [
        "try:\n",
        "    user_input = input(\"Enter a number: \")\n",
        "    number = int(user_input)  # May raise ValueError if input is not a number\n",
        "    print(f\"You entered: {number}\")\n",
        "except ValueError:\n",
        "    print(\"Error: That is not a valid number.\")\n",
        "finally:\n",
        "    print(\"Input handling complete.\")\n"
      ],
      "metadata": {
        "colab": {
          "base_uri": "https://localhost:8080/"
        },
        "id": "izL1VorS_7VY",
        "outputId": "f5e07255-bd85-4b35-e1b4-cb4d09f95207"
      },
      "execution_count": 34,
      "outputs": [
        {
          "output_type": "stream",
          "name": "stdout",
          "text": [
            "Enter a number: Hari\n",
            "Error: That is not a valid number.\n",
            "Input handling complete.\n"
          ]
        }
      ]
    },
    {
      "cell_type": "markdown",
      "source": [
        "## Task 4: Practice Problems"
      ],
      "metadata": {
        "id": "R9jwZTHWc0nu"
      }
    },
    {
      "cell_type": "code",
      "source": [
        "#FizzBuzz logic:\n",
        "for i in range(101):\n",
        "    if i % 3 == 0 and i % 5 == 0:\n",
        "        print(\"FizzBuzz\")\n",
        "    elif i % 3 == 0:\n",
        "        print(\"Fizz\")\n",
        "    elif i % 5 == 0:\n",
        "        print(\"Buzz\")\n",
        "    else:\n",
        "        print(i)\n"
      ],
      "metadata": {
        "colab": {
          "base_uri": "https://localhost:8080/"
        },
        "collapsed": true,
        "id": "M1oeWcsqc3L-",
        "outputId": "206c9542-aad6-4df6-e6e4-371191253b18"
      },
      "execution_count": 1,
      "outputs": [
        {
          "output_type": "stream",
          "name": "stdout",
          "text": [
            "FizzBuzz\n",
            "1\n",
            "2\n",
            "Fizz\n",
            "4\n",
            "Buzz\n",
            "Fizz\n",
            "7\n",
            "8\n",
            "Fizz\n",
            "Buzz\n",
            "11\n",
            "Fizz\n",
            "13\n",
            "14\n",
            "FizzBuzz\n",
            "16\n",
            "17\n",
            "Fizz\n",
            "19\n",
            "Buzz\n",
            "Fizz\n",
            "22\n",
            "23\n",
            "Fizz\n",
            "Buzz\n",
            "26\n",
            "Fizz\n",
            "28\n",
            "29\n",
            "FizzBuzz\n",
            "31\n",
            "32\n",
            "Fizz\n",
            "34\n",
            "Buzz\n",
            "Fizz\n",
            "37\n",
            "38\n",
            "Fizz\n",
            "Buzz\n",
            "41\n",
            "Fizz\n",
            "43\n",
            "44\n",
            "FizzBuzz\n",
            "46\n",
            "47\n",
            "Fizz\n",
            "49\n",
            "Buzz\n",
            "Fizz\n",
            "52\n",
            "53\n",
            "Fizz\n",
            "Buzz\n",
            "56\n",
            "Fizz\n",
            "58\n",
            "59\n",
            "FizzBuzz\n",
            "61\n",
            "62\n",
            "Fizz\n",
            "64\n",
            "Buzz\n",
            "Fizz\n",
            "67\n",
            "68\n",
            "Fizz\n",
            "Buzz\n",
            "71\n",
            "Fizz\n",
            "73\n",
            "74\n",
            "FizzBuzz\n",
            "76\n",
            "77\n",
            "Fizz\n",
            "79\n",
            "Buzz\n",
            "Fizz\n",
            "82\n",
            "83\n",
            "Fizz\n",
            "Buzz\n",
            "86\n",
            "Fizz\n",
            "88\n",
            "89\n",
            "FizzBuzz\n",
            "91\n",
            "92\n",
            "Fizz\n",
            "94\n",
            "Buzz\n",
            "Fizz\n",
            "97\n",
            "98\n",
            "Fizz\n",
            "Buzz\n"
          ]
        }
      ]
    },
    {
      "cell_type": "code",
      "source": [
        "#Finding the largest number in a list\n",
        "numbers = [5, 12, 3, 45, 7]\n",
        "largest = numbers[0]\n",
        "\n",
        "for num in numbers:\n",
        "    if num > largest:\n",
        "        largest = num\n",
        "\n",
        "print(\"The largest number is:\", largest)\n",
        "\n"
      ],
      "metadata": {
        "colab": {
          "base_uri": "https://localhost:8080/"
        },
        "id": "ZbRK88b4GuR3",
        "outputId": "3d5610a2-53f4-4c94-9b82-faaaa369861d"
      },
      "execution_count": 7,
      "outputs": [
        {
          "output_type": "stream",
          "name": "stdout",
          "text": [
            "The largest number is: 45\n"
          ]
        }
      ]
    },
    {
      "cell_type": "code",
      "source": [
        "#Reversing a string\n",
        "text = \"Quantlake\"\n",
        "reversed_text = text[::-1]\n",
        "print(reversed_text)\n"
      ],
      "metadata": {
        "colab": {
          "base_uri": "https://localhost:8080/"
        },
        "id": "rjdFYfe4HW6t",
        "outputId": "18065cfb-4de1-4626-93fc-683f2945b83e"
      },
      "execution_count": 9,
      "outputs": [
        {
          "output_type": "stream",
          "name": "stdout",
          "text": [
            "ekaltnauQ\n"
          ]
        }
      ]
    }
  ]
}