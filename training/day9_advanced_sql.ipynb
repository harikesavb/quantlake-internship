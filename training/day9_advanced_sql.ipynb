{
  "nbformat": 4,
  "nbformat_minor": 0,
  "metadata": {
    "colab": {
      "provenance": []
    },
    "kernelspec": {
      "name": "python3",
      "display_name": "Python 3"
    },
    "language_info": {
      "name": "python"
    }
  },
  "cells": [
    {
      "cell_type": "code",
      "execution_count": 1,
      "metadata": {
        "id": "PwjoYOSqxyYj"
      },
      "outputs": [],
      "source": [
        "#necessary libraries\n",
        "import pandas as pd\n",
        "import sqlite3"
      ]
    },
    {
      "cell_type": "code",
      "source": [
        "#load the dataset\n",
        "df = pd.read_csv(\"/content/Superstore.csv\", encoding='ISO-8859-1')\n",
        "\n",
        "#create the SQLite in-memory database\n",
        "conn = sqlite3.connect(\":memory:\")\n",
        "\n",
        "# Load the DataFrame into SQLite\n",
        "df.to_sql(\"superstore\", conn, index=False, if_exists=\"replace\")"
      ],
      "metadata": {
        "colab": {
          "base_uri": "https://localhost:8080/"
        },
        "collapsed": true,
        "id": "ejBqGLHhJhFE",
        "outputId": "58e79177-b9e6-45d9-e1d6-f5fb95129c32"
      },
      "execution_count": 3,
      "outputs": [
        {
          "output_type": "execute_result",
          "data": {
            "text/plain": [
              "9994"
            ]
          },
          "metadata": {},
          "execution_count": 3
        }
      ]
    },
    {
      "cell_type": "code",
      "source": [
        "# Query 1: Customer order count and total revenue\n",
        "query1 = \"\"\"\n",
        "SELECT\n",
        "    [Customer Name] AS customer,\n",
        "    COUNT(DISTINCT [Order ID]) AS total_orders,\n",
        "    SUM(Sales) AS total_revenue\n",
        "FROM superstore\n",
        "GROUP BY [Customer Name]\n",
        "ORDER BY total_revenue DESC;\n",
        "\"\"\""
      ],
      "metadata": {
        "id": "oJSTttGJJpEk"
      },
      "execution_count": 4,
      "outputs": []
    },
    {
      "cell_type": "code",
      "source": [
        "# Query 2: Top 5 highest spending customers with their country\n",
        "query2 = \"\"\"\n",
        "SELECT\n",
        "    [Customer Name] AS customer,\n",
        "    MAX(Country) AS country,\n",
        "    SUM(Sales) AS total_revenue\n",
        "FROM superstore\n",
        "GROUP BY [Customer Name]\n",
        "ORDER BY total_revenue DESC\n",
        "LIMIT 5;\n",
        "\"\"\""
      ],
      "metadata": {
        "id": "ieLOg-vLJweL"
      },
      "execution_count": 5,
      "outputs": []
    },
    {
      "cell_type": "code",
      "source": [
        "# Query 3: Product categories and total revenue\n",
        "query3 = \"\"\"\n",
        "SELECT\n",
        "    Category,\n",
        "    SUM(Sales) AS total_revenue\n",
        "FROM superstore\n",
        "GROUP BY Category\n",
        "ORDER BY total_revenue DESC;\n",
        "\"\"\"\n",
        "\n",
        "# Execute and return results\n",
        "result1 = pd.read_sql_query(query1, conn)\n",
        "result2 = pd.read_sql_query(query2, conn)\n",
        "result3 = pd.read_sql_query(query3, conn)\n",
        "\n",
        "result1.head(), result2, result3"
      ],
      "metadata": {
        "colab": {
          "base_uri": "https://localhost:8080/"
        },
        "id": "hnstqQyMJ0KT",
        "outputId": "1c8f5987-2986-4812-b403-564395fc2f45"
      },
      "execution_count": 6,
      "outputs": [
        {
          "output_type": "execute_result",
          "data": {
            "text/plain": [
              "(        customer  total_orders  total_revenue\n",
              " 0    Sean Miller             5      25043.050\n",
              " 1   Tamara Chand             5      19052.218\n",
              " 2   Raymond Buch             6      15117.339\n",
              " 3   Tom Ashbrook             4      14595.620\n",
              " 4  Adrian Barton            10      14473.571,\n",
              "         customer        country  total_revenue\n",
              " 0    Sean Miller  United States      25043.050\n",
              " 1   Tamara Chand  United States      19052.218\n",
              " 2   Raymond Buch  United States      15117.339\n",
              " 3   Tom Ashbrook  United States      14595.620\n",
              " 4  Adrian Barton  United States      14473.571,\n",
              "           Category  total_revenue\n",
              " 0       Technology    836154.0330\n",
              " 1        Furniture    741999.7953\n",
              " 2  Office Supplies    719047.0320)"
            ]
          },
          "metadata": {},
          "execution_count": 6
        }
      ]
    },
    {
      "cell_type": "code",
      "source": [
        "# Query 1: Rank each customer's orders by order amount using ROW_NUMBER()\n",
        "query1 = \"\"\"\n",
        "SELECT\n",
        "    [Customer Name],\n",
        "    [Order ID],\n",
        "    Sales,\n",
        "    ROW_NUMBER() OVER (PARTITION BY [Customer Name] ORDER BY Sales DESC) AS order_rank\n",
        "FROM superstore;\n",
        "\"\"\"\n",
        "\n",
        "# Query 2: Running total of sales by month\n",
        "query2 = \"\"\"\n",
        "SELECT\n",
        "    strftime('%Y-%m', [Order Date]) AS order_month,\n",
        "    Sales,\n",
        "    SUM(Sales) OVER (PARTITION BY strftime('%Y-%m', [Order Date]) ORDER BY [Order Date]) AS monthly_running_total\n",
        "FROM superstore;\n",
        "\"\"\"\n",
        "\n",
        "# Query 3: Top 3 products per category by revenue using RANK()\n",
        "query3 = \"\"\"\n",
        "SELECT *\n",
        "FROM (\n",
        "    SELECT\n",
        "        Category,\n",
        "        [Product Name],\n",
        "        SUM(Sales) AS total_sales,\n",
        "        RANK() OVER (PARTITION BY Category ORDER BY SUM(Sales) DESC) AS sales_rank\n",
        "    FROM superstore\n",
        "    GROUP BY Category, [Product Name]\n",
        ")\n",
        "WHERE sales_rank <= 3;\n",
        "\"\"\"\n",
        "\n",
        "# Execute queries\n",
        "result1 = pd.read_sql_query(query1, conn)\n",
        "result2 = pd.read_sql_query(query2, conn)\n",
        "result3 = pd.read_sql_query(query3, conn)\n",
        "\n",
        "result1.head(), result2.head(), result3\n"
      ],
      "metadata": {
        "colab": {
          "base_uri": "https://localhost:8080/"
        },
        "id": "KJQubLGKKCwa",
        "outputId": "f963458c-7df3-414e-9520-226bc5586d22"
      },
      "execution_count": 7,
      "outputs": [
        {
          "output_type": "execute_result",
          "data": {
            "text/plain": [
              "(   Customer Name        Order ID    Sales  order_rank\n",
              " 0  Aaron Bergman  CA-2016-140935  341.960           1\n",
              " 1  Aaron Bergman  CA-2014-156587  242.940           2\n",
              " 2  Aaron Bergman  CA-2016-140935  221.980           3\n",
              " 3  Aaron Bergman  CA-2014-156587   48.712           4\n",
              " 4  Aaron Bergman  CA-2014-156587   17.940           5,\n",
              "   order_month    Sales  monthly_running_total\n",
              " 0        None   48.896               1481.828\n",
              " 1        None  474.430               1481.828\n",
              " 2        None    3.600               1481.828\n",
              " 3        None  454.560               1481.828\n",
              " 4        None  141.420               1481.828,\n",
              "           Category                                       Product Name  \\\n",
              " 0        Furniture       HON 5400 Series Task Chairs for Big and Tall   \n",
              " 1        Furniture  Riverside Palais Royal Lawyers Bookcase, Royal...   \n",
              " 2        Furniture         Bretford Rectangular Conference Table Tops   \n",
              " 3  Office Supplies  Fellowes PB500 Electric Punch Plastic Comb Bin...   \n",
              " 4  Office Supplies         GBC DocuBind TL300 Electric Binding System   \n",
              " 5  Office Supplies   GBC Ibimaster 500 Manual ProClick Binding System   \n",
              " 6       Technology              Canon imageCLASS 2200 Advanced Copier   \n",
              " 7       Technology  Cisco TelePresence System EX90 Videoconferenci...   \n",
              " 8       Technology               Hewlett Packard LaserJet 3310 Copier   \n",
              " \n",
              "    total_sales  sales_rank  \n",
              " 0   21870.5760           1  \n",
              " 1   15610.9656           2  \n",
              " 2   12995.2915           3  \n",
              " 3   27453.3840           1  \n",
              " 4   19823.4790           2  \n",
              " 5   19024.5000           3  \n",
              " 6   61599.8240           1  \n",
              " 7   22638.4800           2  \n",
              " 8   18839.6860           3  )"
            ]
          },
          "metadata": {},
          "execution_count": 7
        }
      ]
    },
    {
      "cell_type": "code",
      "source": [
        "# Convert 'Order Date' to datetime format\n",
        "df['Order Date'] = pd.to_datetime(df['Order Date'], errors='coerce')\n",
        "\n",
        "# Drop rows with invalid dates\n",
        "df = df.dropna(subset=['Order Date'])\n",
        "\n",
        "# CTE 1: Customers with average order value > ₹1000\n",
        "cte_avg_order_value = (\n",
        "    df.groupby('Customer Name')['Sales']\n",
        "    .mean()\n",
        "    .reset_index()\n",
        "    .rename(columns={'Sales': 'avg_order_value'})\n",
        ")\n",
        "cte_avg_order_value = cte_avg_order_value[cte_avg_order_value['avg_order_value'] > 1000]\n",
        "\n",
        "# CTE 2: Orders in the last 3 months, then aggregate revenue\n",
        "last_date = df['Order Date'].max()\n",
        "three_months_ago = last_date - pd.DateOffset(months=3)\n",
        "recent_orders = df[df['Order Date'] >= three_months_ago]\n",
        "recent_revenue = recent_orders.groupby('Region')['Sales'].sum().reset_index().rename(columns={'Sales': 'revenue_last_3_months'})\n",
        "\n",
        "cte_avg_order_value.head(), recent_revenue.head()"
      ],
      "metadata": {
        "colab": {
          "base_uri": "https://localhost:8080/"
        },
        "id": "0ANWb8lqKPLy",
        "outputId": "103e37da-111b-4718-b76d-90c3fce693f8"
      },
      "execution_count": 8,
      "outputs": [
        {
          "output_type": "execute_result",
          "data": {
            "text/plain": [
              "(          Customer Name  avg_order_value\n",
              " 90         Bill Shonely      1166.850333\n",
              " 156  Christopher Conant      1102.642909\n",
              " 307      Grant Thornton      1558.535333\n",
              " 334        Hunter Lopez      1170.299818\n",
              " 547    Mitch Willingham      1751.292000,\n",
              "     Region  revenue_last_3_months\n",
              " 0  Central              46172.031\n",
              " 1     East              98208.799\n",
              " 2    South              56064.109\n",
              " 3     West              80149.888)"
            ]
          },
          "metadata": {},
          "execution_count": 8
        }
      ]
    },
    {
      "cell_type": "code",
      "source": [
        "# Convert 'Order Date' to month\n",
        "df['Order_Month'] = df['Order Date'].dt.to_period('M').astype(str)\n",
        "\n",
        "# Group by Product and Month, count order rows as sales volume\n",
        "monthly_sales = df.groupby(['Product Name', 'Order_Month']).size().reset_index(name='Sales_Count')\n",
        "\n",
        "# Sort for trend analysis\n",
        "monthly_sales = monthly_sales.sort_values(by=['Product Name', 'Order_Month'])\n"
      ],
      "metadata": {
        "id": "C5C-XntfKmMz"
      },
      "execution_count": 11,
      "outputs": []
    },
    {
      "cell_type": "code",
      "source": [
        "# Pivot to get monthly columns\n",
        "pivot_sales = monthly_sales.pivot(index='Product Name', columns='Order_Month', values='Sales_Count').fillna(0)\n",
        "\n",
        "# Get last 3 months from dataset\n",
        "last_3_months = sorted(pivot_sales.columns)[-3:]\n",
        "\n",
        "# Filter products with strictly decreasing trend in the last 3 months\n",
        "def is_decreasing(row):\n",
        "    vals = row[last_3_months].values\n",
        "    return vals[0] > vals[1] > vals[2]\n",
        "\n",
        "decreasing_products = pivot_sales[pivot_sales.apply(is_decreasing, axis=1)]\n"
      ],
      "metadata": {
        "id": "bob8oxgpKnXL"
      },
      "execution_count": 12,
      "outputs": []
    }
  ]
}