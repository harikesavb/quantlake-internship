{
  "nbformat": 4,
  "nbformat_minor": 0,
  "metadata": {
    "colab": {
      "provenance": []
    },
    "kernelspec": {
      "name": "python3",
      "display_name": "Python 3"
    },
    "language_info": {
      "name": "python"
    }
  },
  "cells": [
    {
      "cell_type": "code",
      "execution_count": 13,
      "metadata": {
        "id": "pg6HSV1acnYj"
      },
      "outputs": [],
      "source": [
        "# Day 1: Python Basics\n",
        "\n",
        "#  Variables & Data Types\n",
        "a = 10          # int\n",
        "b = 3.14        # float\n",
        "name = \"Hari\"   # str\n",
        "status = True   # bool"
      ]
    },
    {
      "cell_type": "code",
      "source": [
        "#  Lists, Tuples, and Dictionaries\n",
        "fruits = [\"apple\", \"banana\", \"cherry\"]      # list\n",
        "dimensions = (10, 20)                       # tuple\n",
        "student = {\"name\": \"Hari\", \"age\": 18}       # dictionary"
      ],
      "metadata": {
        "id": "waglf9Nfc1E4"
      },
      "execution_count": 11,
      "outputs": []
    },
    {
      "cell_type": "code",
      "source": [
        "#  Arithmetic Operators\n",
        "x = 5 + 3       # Addition\n",
        "y = 10 - 2      # Subtraction\n",
        "z = 4 * 2       # Multiplication\n",
        "d = 8 / 2       # Division"
      ],
      "metadata": {
        "id": "dO_OEAOBc2LP"
      },
      "execution_count": 12,
      "outputs": []
    },
    {
      "cell_type": "code",
      "source": [
        "#  Comparison Operators\n",
        "x = 15\n",
        "y = 10\n",
        "print(x > y)    # Greater than\n",
        "print(x == y)   # Equality"
      ],
      "metadata": {
        "colab": {
          "base_uri": "https://localhost:8080/"
        },
        "id": "SwI5HuJvc2gW",
        "outputId": "3c805f07-7b26-4587-cad5-6a58fd46090e"
      },
      "execution_count": 15,
      "outputs": [
        {
          "output_type": "stream",
          "name": "stdout",
          "text": [
            "True\n",
            "False\n"
          ]
        }
      ]
    },
    {
      "cell_type": "code",
      "source": [
        "# Control Flow Primer\n",
        "\n",
        "# if, elif, else\n",
        "age = 18\n",
        "if age < 18:\n",
        "    print(\"Minor\")\n",
        "elif age == 18:\n",
        "    print(\"Just turned adult\")\n",
        "else:\n",
        "    print(\"Adult\")\n"
      ],
      "metadata": {
        "colab": {
          "base_uri": "https://localhost:8080/"
        },
        "id": "J78-XZAec2wP",
        "outputId": "24ff4851-6c9a-4108-fbdf-ec2f9ff05863"
      },
      "execution_count": 8,
      "outputs": [
        {
          "output_type": "stream",
          "name": "stdout",
          "text": [
            "Just turned adult\n"
          ]
        }
      ]
    },
    {
      "cell_type": "code",
      "source": [
        "# for loop\n",
        "fruits = [\"apple\", \"banana\", \"cherry\"]\n",
        "for fruit in fruits:\n",
        "    print(fruit)  # Loops through the list"
      ],
      "metadata": {
        "colab": {
          "base_uri": "https://localhost:8080/"
        },
        "id": "U5qPbH8-dANg",
        "outputId": "31f01d2b-a50c-4634-a959-115a0a597a83"
      },
      "execution_count": 6,
      "outputs": [
        {
          "output_type": "stream",
          "name": "stdout",
          "text": [
            "apple\n",
            "banana\n",
            "cherry\n"
          ]
        }
      ]
    },
    {
      "cell_type": "code",
      "source": [
        "# while loop\n",
        "count = 0\n",
        "while count < 3:\n",
        "    print(\"Count:\", count)\n",
        "    count += 1\n"
      ],
      "metadata": {
        "colab": {
          "base_uri": "https://localhost:8080/"
        },
        "id": "rAQZdYoEdAX_",
        "outputId": "8da23adb-bfa0-4285-ae86-49562d265eda"
      },
      "execution_count": 7,
      "outputs": [
        {
          "output_type": "stream",
          "name": "stdout",
          "text": [
            "Count: 0\n",
            "Count: 1\n",
            "Count: 2\n"
          ]
        }
      ]
    }
  ]
}